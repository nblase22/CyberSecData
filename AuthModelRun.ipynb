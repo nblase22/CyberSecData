{
 "cells": [
  {
   "cell_type": "code",
   "execution_count": null,
   "metadata": {
    "collapsed": true
   },
   "outputs": [],
   "source": [
    "# code required for running model post creation:\n",
    "\n",
    "# import dependencies\n",
    "import numpy as np\n",
    "import pandas as pd\n",
    "\n",
    "from sklearn.preprocessing import LabelEncoder\n",
    "from sklearn.feature_extraction.text import CountVectorizer\n",
    "from sklearn.externals import joblib\n",
    "\n",
    "from keras.models import load_model\n",
    "\n",
    "# load vectorizer and label encoder\n",
    "vectorizer = joblib.load('vectorizer.pkl')\n",
    "label_encoder = joblib.load('label_encoder.pkl') \n",
    "\n",
    "# load the model\n",
    "model = load_model(\"auth_model_trained.h5\")\n",
    "\n",
    "# test the data, assuming that the input data is in the same format as the original auth.txt.gz file without the SuccessFailure column.\n",
    "\n",
    "# start by converting the data into a useable format\n",
    "# create the header\n",
    "header = [\"Time\", \"SourceUserDomain\", \"DestUserDomain\", \"SourceComputer\", \"DestComputer\", \"AuthType\", \"LogonType\", \"AuthOrientation\"]\n",
    "\n",
    "# create a test data frame, replace the file path with that of the test data, change column names to headers, drop unnecessary columns\n",
    "test_df = pd.read_csv('./Data/CSVs/tester.csv', header=None)\n",
    "test_df.columns = header\n",
    "test_df = test_df.drop([\"DestUserDomain\", \"SourceComputer\", \"DestComputer\", \"DestUserDomain\", \"Time\", \"AuthType\"], axis=1)\n",
    "\n",
    "# transform the data into the proper testing format\n",
    "test = test_df[\"SourceUserDomain\"] + ' ' + test_df[\"LogonType\"] + ' ' + test_df[\"AuthOrientation\"]\n",
    "\n",
    "# run the test data through the vectorizer, model, and label encoder\n",
    "test_vec = vectorizer.transform(test)\n",
    "encoded_test = model.predict_classes(test_vec)\n",
    "predict_label = label_encoder.inverse_transform(encoded_test)\n",
    "print(\"Logon Prediction: \" + predict_label[0])"
   ]
  }
 ],
 "metadata": {
  "kernelspec": {
   "display_name": "Python [conda env:PythonData]",
   "language": "python",
   "name": "conda-env-PythonData-py"
  },
  "language_info": {
   "codemirror_mode": {
    "name": "ipython",
    "version": 3
   },
   "file_extension": ".py",
   "mimetype": "text/x-python",
   "name": "python",
   "nbconvert_exporter": "python",
   "pygments_lexer": "ipython3",
   "version": "3.6.1"
  }
 },
 "nbformat": 4,
 "nbformat_minor": 2
}
