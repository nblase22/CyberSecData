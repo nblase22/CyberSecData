{
 "cells": [
  {
   "cell_type": "code",
   "execution_count": 1,
   "metadata": {
    "collapsed": true
   },
   "outputs": [],
   "source": [
    "# import session\n",
    "from pyspark.sql import SparkSession\n",
    "from pyspark import SparkContext\n",
    "from pyspark.sql import Row\n",
    "sc =SparkContext()\n",
    "\n",
    "%matplotlib inline\n",
    "import matplotlib.pyplot as plt\n",
    "import numpy as np\n",
    "\n",
    "# create spark app\n",
    "spark = SparkSession.builder.appName('test').getOrCreate()"
   ]
  },
  {
   "cell_type": "code",
   "execution_count": 2,
   "metadata": {},
   "outputs": [
    {
     "data": {
      "text/plain": [
       "['1,ANONYMOUS LOGON@C586,ANONYMOUS LOGON@C586,C1250,C586,NTLM,Network,LogOn,Success',\n",
       " '1,ANONYMOUS LOGON@C586,ANONYMOUS LOGON@C586,C586,C586,?,Network,LogOff,Success',\n",
       " '1,C101$@DOM1,C101$@DOM1,C988,C988,?,Network,LogOff,Success',\n",
       " '1,C1020$@DOM1,SYSTEM@C1020,C1020,C1020,Negotiate,Service,LogOn,Success',\n",
       " '1,C1021$@DOM1,C1021$@DOM1,C1021,C625,Kerberos,Network,LogOn,Success']"
      ]
     },
     "execution_count": 2,
     "metadata": {},
     "output_type": "execute_result"
    }
   ],
   "source": [
    "# read the .gz file into an RDD, show 5 rows of the RDD to confirm\n",
    "rdd = sc.textFile(\"./Data/GZs/auth.txt.gz\")\n",
    "rdd.take(5)"
   ]
  },
  {
   "cell_type": "code",
   "execution_count": 3,
   "metadata": {},
   "outputs": [
    {
     "name": "stdout",
     "output_type": "stream",
     "text": [
      "+---------------+---------+------------+--------------------+---------+--------------+--------------------+--------------+----+\n",
      "|AuthOrientation| AuthType|DestComputer|      DestUserDomain|LogonType|SourceComputer|    SourceUserDomain|SuccessFailure|Time|\n",
      "+---------------+---------+------------+--------------------+---------+--------------+--------------------+--------------+----+\n",
      "|          LogOn|     NTLM|        C586|ANONYMOUS LOGON@C586|  Network|         C1250|ANONYMOUS LOGON@C586|       Success|   1|\n",
      "|         LogOff|        ?|        C586|ANONYMOUS LOGON@C586|  Network|          C586|ANONYMOUS LOGON@C586|       Success|   1|\n",
      "|         LogOff|        ?|        C988|          C101$@DOM1|  Network|          C988|          C101$@DOM1|       Success|   1|\n",
      "|          LogOn|Negotiate|       C1020|        SYSTEM@C1020|  Service|         C1020|         C1020$@DOM1|       Success|   1|\n",
      "|          LogOn| Kerberos|        C625|         C1021$@DOM1|  Network|         C1021|         C1021$@DOM1|       Success|   1|\n",
      "+---------------+---------+------------+--------------------+---------+--------------+--------------------+--------------+----+\n",
      "only showing top 5 rows\n",
      "\n"
     ]
    }
   ],
   "source": [
    "# create a header variable containing the various column names\n",
    "header = [\"Time\", \"SourceUserDomain\", \"DestUserDomain\", \"SourceComputer\", \"DestComputer\", \"AuthType\", \"LogonType\", \"AuthOrientation\", \"SuccessFailure\"]\n",
    "\n",
    "# define a conversion function for the RDD values into a dictionary\n",
    "def list_to_row(keys, values):\n",
    "    row_dict = dict(zip(keys, values))\n",
    "    return Row(**row_dict)\n",
    "\n",
    "# convert the raw rdd into a new one splitting on the \",\"\n",
    "rdd_new = rdd.map(lambda x: x.split(','))\n",
    "#rdd_new.take(2)\n",
    "\n",
    "# run the new RDD through the list_to_row function to convert to a dictionary\n",
    "rdd_rows = rdd_new.map(lambda x: list_to_row(header, x))\n",
    "#rdd_rows.take(3)\n",
    "\n",
    "# create a DF using the rdd_rows created above, show the first 5 values to check for accuracy\n",
    "auth_df = spark.createDataFrame(rdd_rows)\n",
    "auth_df.show(5)"
   ]
  },
  {
   "cell_type": "code",
   "execution_count": 4,
   "metadata": {},
   "outputs": [
    {
     "name": "stdout",
     "output_type": "stream",
     "text": [
      "+---------------+---------+--------------------+--------------+\n",
      "|AuthOrientation|LogonType|    SourceUserDomain|SuccessFailure|\n",
      "+---------------+---------+--------------------+--------------+\n",
      "|          LogOn|  Network|ANONYMOUS LOGON@C586|       Success|\n",
      "|         LogOff|  Network|ANONYMOUS LOGON@C586|       Success|\n",
      "|         LogOff|  Network|          C101$@DOM1|       Success|\n",
      "|          LogOn|  Service|         C1020$@DOM1|       Success|\n",
      "|          LogOn|  Network|         C1021$@DOM1|       Success|\n",
      "+---------------+---------+--------------------+--------------+\n",
      "only showing top 5 rows\n",
      "\n"
     ]
    }
   ],
   "source": [
    "# trim down columns for the model to use to items that seem most relevant\n",
    "auth_df_trim = auth_df.drop(\"DestUserDomain\", \"SourceComputer\", \"DestComputer\", \"DestUserDomain\", \"Time\", \"AuthType\")\n",
    "auth_df_trim.show(5)\n",
    "cols = auth_df_trim.columns"
   ]
  },
  {
   "cell_type": "code",
   "execution_count": null,
   "metadata": {
    "collapsed": true
   },
   "outputs": [],
   "source": [
    "# take a random sample of the data to work with due to system constraints\n",
    "# take small fraction of data\n",
    "auth_df_trim_sample = auth_df_trim.sample(False, 0.001, seed=42)\n",
    "auth_df_trim.count()"
   ]
  },
  {
   "cell_type": "code",
   "execution_count": null,
   "metadata": {
    "collapsed": true
   },
   "outputs": [],
   "source": [
    "###One-Hot Encoding\n",
    "from pyspark.ml import Pipeline\n",
    "from pyspark.ml.feature import OneHotEncoder, StringIndexer, VectorAssembler\n",
    "\n",
    "categoricalColumns = [\"AuthOrientation\", \"LogonType\", \"SourceUserDomain\"]\n",
    "stages = [] # stages in our Pipeline\n",
    "for categoricalCol in categoricalColumns:\n",
    "  # Category Indexing with StringIndexer\n",
    "  stringIndexer = StringIndexer(inputCol=categoricalCol, outputCol=categoricalCol+\"Index\")\n",
    "  # Use OneHotEncoder to convert categorical variables into binary SparseVectors\n",
    "  encoder = OneHotEncoder(inputCol=categoricalCol+\"Index\", outputCol=categoricalCol+\"classVec\")\n",
    "  # Add stages.  These are not run here, but will run all at once later on.\n",
    "  stages += [stringIndexer, encoder]\n",
    "    \n",
    "\n",
    "# Convert label into label indices using the StringIndexer\n",
    "label_stringIdx = StringIndexer(inputCol = \"SuccessFailure\", outputCol = \"SuccessFail\")\n",
    "stages += [label_stringIdx]\n",
    "\n",
    "# Transform all features into a vector using VectorAssembler\n",
    "assemblerInputs = list(map(lambda c: c + \"classVec\", categoricalColumns))\n",
    "assembler = VectorAssembler(inputCols=assemblerInputs, outputCol=\"features\")\n",
    "stages += [assembler]\n",
    "\n",
    "# Create a Pipeline.\n",
    "pipeline = Pipeline(stages=stages)\n",
    "# Run the feature transformations.\n",
    "#  - fit() computes feature statistics as needed.\n",
    "#  - transform() actually transforms the features.\n",
    "pipelineModel = pipeline.fit(auth_df_trim_sample)\n",
    "dataset = pipelineModel.transform(auth_df_trim_sample)\n",
    "\n",
    "# Keep relevant columns\n",
    "selectedcols = [\"SuccessFail\", \"features\"] + cols\n",
    "auth_dataset = auth_df_trim_sample.select(selectedcols)\n",
    "display(auth_dataset)\n",
    "\n"
   ]
  },
  {
   "cell_type": "code",
   "execution_count": 10,
   "metadata": {},
   "outputs": [
    {
     "data": {
      "text/plain": [
       "['AuthOrientation', 'LogonType', 'SourceUserDomain', 'SuccessFailure']"
      ]
     },
     "execution_count": 10,
     "metadata": {},
     "output_type": "execute_result"
    }
   ],
   "source": [
    "### Randomly split data into training and test sets. set seed for reproducibility\n",
    "(trainingData, testData) = auth_dataset.randomSplit([0.7, 0.3], seed = 100)\n",
    "print trainingData.count()\n",
    "print testData.count()"
   ]
  },
  {
   "cell_type": "code",
   "execution_count": null,
   "metadata": {
    "collapsed": true
   },
   "outputs": [],
   "source": [
    "from pyspark.ml.classification import LogisticRegression\n",
    "\n",
    "# Create initial LogisticRegression model\n",
    "lr = LogisticRegression(labelCol=\"SuccessFail\", featuresCol=\"features\", maxIter=10)\n",
    "\n",
    "# Train model with Training Data\n",
    "lrModel = lr.fit(trainingData)"
   ]
  },
  {
   "cell_type": "code",
   "execution_count": null,
   "metadata": {
    "collapsed": true
   },
   "outputs": [],
   "source": [
    "# Make predictions on test data using the transform() method.\n",
    "# LogisticRegression.transform() will only use the 'features' column.\n",
    "predictions = lrModel.transform(testData)"
   ]
  },
  {
   "cell_type": "code",
   "execution_count": null,
   "metadata": {
    "collapsed": true
   },
   "outputs": [],
   "source": [
    "predictions.printSchema()"
   ]
  },
  {
   "cell_type": "code",
   "execution_count": null,
   "metadata": {
    "collapsed": true
   },
   "outputs": [],
   "source": []
  },
  {
   "cell_type": "code",
   "execution_count": 1,
   "metadata": {},
   "outputs": [
    {
     "ename": "NameError",
     "evalue": "name 'spark' is not defined",
     "output_type": "error",
     "traceback": [
      "\u001b[1;31m---------------------------------------------------------------------------\u001b[0m",
      "\u001b[1;31mNameError\u001b[0m                                 Traceback (most recent call last)",
      "\u001b[1;32m<ipython-input-1-4c4517a455ef>\u001b[0m in \u001b[0;36m<module>\u001b[1;34m()\u001b[0m\n\u001b[0;32m      1\u001b[0m \u001b[1;31m# stop spark\u001b[0m\u001b[1;33m\u001b[0m\u001b[1;33m\u001b[0m\u001b[0m\n\u001b[1;32m----> 2\u001b[1;33m \u001b[0mspark\u001b[0m\u001b[1;33m.\u001b[0m\u001b[0mstop\u001b[0m\u001b[1;33m(\u001b[0m\u001b[1;33m)\u001b[0m\u001b[1;33m\u001b[0m\u001b[0m\n\u001b[0m",
      "\u001b[1;31mNameError\u001b[0m: name 'spark' is not defined"
     ]
    }
   ],
   "source": [
    "# stop spark\n",
    "spark.stop()"
   ]
  },
  {
   "cell_type": "code",
   "execution_count": null,
   "metadata": {
    "collapsed": true
   },
   "outputs": [],
   "source": []
  }
 ],
 "metadata": {
  "kernelspec": {
   "display_name": "Python [conda env:PythonData]",
   "language": "python",
   "name": "conda-env-PythonData-py"
  },
  "language_info": {
   "codemirror_mode": {
    "name": "ipython",
    "version": 3
   },
   "file_extension": ".py",
   "mimetype": "text/x-python",
   "name": "python",
   "nbconvert_exporter": "python",
   "pygments_lexer": "ipython3",
   "version": "3.6.1"
  }
 },
 "nbformat": 4,
 "nbformat_minor": 2
}
