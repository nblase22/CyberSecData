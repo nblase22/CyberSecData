{
 "cells": [
  {
   "cell_type": "code",
   "execution_count": 1,
   "metadata": {
    "collapsed": true
   },
   "outputs": [],
   "source": [
    "import pandas as pd\n",
    "import os"
   ]
  },
  {
   "cell_type": "markdown",
   "metadata": {},
   "source": [
    "DATASOURCE:\n",
    "\n",
    "A. D. Kent, “Comprehensive, Multi-Source Cybersecurity Events,” Los Alamos National Laboratory,\n",
    "\n",
    "http://dx.doi.org/10.17021/1179829, 2015.\n",
    "\n",
    "@Misc{kent-2015-cyberdata1,\n",
    "\n",
    "  author =     {Alexander D. Kent},\n",
    "  \n",
    "  title =      {{Comprehensive, Multi-Source Cyber-Security Events}},\n",
    "  \n",
    "  year =       {2015},\n",
    "  \n",
    "  howpublished = {Los Alamos National Laboratory},\n",
    "  \n",
    "  doi = {10.17021/1179829}\n",
    "  \n",
    "  \n",
    "}"
   ]
  },
  {
   "cell_type": "code",
   "execution_count": 2,
   "metadata": {},
   "outputs": [
    {
     "data": {
      "text/html": [
       "<div>\n",
       "<style>\n",
       "    .dataframe thead tr:only-child th {\n",
       "        text-align: right;\n",
       "    }\n",
       "\n",
       "    .dataframe thead th {\n",
       "        text-align: left;\n",
       "    }\n",
       "\n",
       "    .dataframe tbody tr th {\n",
       "        vertical-align: top;\n",
       "    }\n",
       "</style>\n",
       "<table border=\"1\" class=\"dataframe\">\n",
       "  <thead>\n",
       "    <tr style=\"text-align: right;\">\n",
       "      <th></th>\n",
       "      <th>0</th>\n",
       "      <th>1</th>\n",
       "      <th>2</th>\n",
       "      <th>3</th>\n",
       "      <th>4</th>\n",
       "      <th>5</th>\n",
       "      <th>6</th>\n",
       "      <th>7</th>\n",
       "      <th>8</th>\n",
       "    </tr>\n",
       "  </thead>\n",
       "  <tbody>\n",
       "    <tr>\n",
       "      <th>0</th>\n",
       "      <td>1</td>\n",
       "      <td>ANONYMOUS LOGON@C586</td>\n",
       "      <td>ANONYMOUS LOGON@C586</td>\n",
       "      <td>C1250</td>\n",
       "      <td>C586</td>\n",
       "      <td>NTLM</td>\n",
       "      <td>Network</td>\n",
       "      <td>LogOn</td>\n",
       "      <td>Success</td>\n",
       "    </tr>\n",
       "    <tr>\n",
       "      <th>1</th>\n",
       "      <td>1</td>\n",
       "      <td>ANONYMOUS LOGON@C586</td>\n",
       "      <td>ANONYMOUS LOGON@C586</td>\n",
       "      <td>C586</td>\n",
       "      <td>C586</td>\n",
       "      <td>?</td>\n",
       "      <td>Network</td>\n",
       "      <td>LogOff</td>\n",
       "      <td>Success</td>\n",
       "    </tr>\n",
       "    <tr>\n",
       "      <th>2</th>\n",
       "      <td>1</td>\n",
       "      <td>C101$@DOM1</td>\n",
       "      <td>C101$@DOM1</td>\n",
       "      <td>C988</td>\n",
       "      <td>C988</td>\n",
       "      <td>?</td>\n",
       "      <td>Network</td>\n",
       "      <td>LogOff</td>\n",
       "      <td>Success</td>\n",
       "    </tr>\n",
       "    <tr>\n",
       "      <th>3</th>\n",
       "      <td>1</td>\n",
       "      <td>C1020$@DOM1</td>\n",
       "      <td>SYSTEM@C1020</td>\n",
       "      <td>C1020</td>\n",
       "      <td>C1020</td>\n",
       "      <td>Negotiate</td>\n",
       "      <td>Service</td>\n",
       "      <td>LogOn</td>\n",
       "      <td>Success</td>\n",
       "    </tr>\n",
       "    <tr>\n",
       "      <th>4</th>\n",
       "      <td>1</td>\n",
       "      <td>C1021$@DOM1</td>\n",
       "      <td>C1021$@DOM1</td>\n",
       "      <td>C1021</td>\n",
       "      <td>C625</td>\n",
       "      <td>Kerberos</td>\n",
       "      <td>Network</td>\n",
       "      <td>LogOn</td>\n",
       "      <td>Success</td>\n",
       "    </tr>\n",
       "  </tbody>\n",
       "</table>\n",
       "</div>"
      ],
      "text/plain": [
       "   0                     1                     2      3      4          5  \\\n",
       "0  1  ANONYMOUS LOGON@C586  ANONYMOUS LOGON@C586  C1250   C586       NTLM   \n",
       "1  1  ANONYMOUS LOGON@C586  ANONYMOUS LOGON@C586   C586   C586          ?   \n",
       "2  1            C101$@DOM1            C101$@DOM1   C988   C988          ?   \n",
       "3  1           C1020$@DOM1          SYSTEM@C1020  C1020  C1020  Negotiate   \n",
       "4  1           C1021$@DOM1           C1021$@DOM1  C1021   C625   Kerberos   \n",
       "\n",
       "         6       7        8  \n",
       "0  Network   LogOn  Success  \n",
       "1  Network  LogOff  Success  \n",
       "2  Network  LogOff  Success  \n",
       "3  Service   LogOn  Success  \n",
       "4  Network   LogOn  Success  "
      ]
     },
     "execution_count": 2,
     "metadata": {},
     "output_type": "execute_result"
    }
   ],
   "source": [
    "# create a list of headers corresponding to the data file as the datafile lacks headers\n",
    "header = [\"Time\", \"SourceUserDomain\", \"DestUserDomain\", \"SourceComputer\", \"DestComputer\", \"AuthType\", \"LogonType\", \"AuthOrientation\", \"SuccessFailure\"]\n",
    "\n",
    "# import the first 10k rows of the auth file\n",
    "# authTenK = pd.read_csv('./Data/CSVs/auth10k.csv', header=None)\n",
    "# authTenK.head()\n",
    "\n",
    "# import the first 50k rows of the auth file\n",
    "# authFiftyK = pd.read_csv('./Data/CSVs/auth50k.csv', header=None)\n",
    "# authFiftyK.head()\n",
    "\n",
    "# import the first 100k rows of the auth file\n",
    "authHundredK = pd.read_csv('./Data/CSVs/auth100k.csv', header=None)\n",
    "authHundredK.head()"
   ]
  },
  {
   "cell_type": "code",
   "execution_count": 3,
   "metadata": {},
   "outputs": [
    {
     "data": {
      "text/html": [
       "<div>\n",
       "<style>\n",
       "    .dataframe thead tr:only-child th {\n",
       "        text-align: right;\n",
       "    }\n",
       "\n",
       "    .dataframe thead th {\n",
       "        text-align: left;\n",
       "    }\n",
       "\n",
       "    .dataframe tbody tr th {\n",
       "        vertical-align: top;\n",
       "    }\n",
       "</style>\n",
       "<table border=\"1\" class=\"dataframe\">\n",
       "  <thead>\n",
       "    <tr style=\"text-align: right;\">\n",
       "      <th></th>\n",
       "      <th>Time</th>\n",
       "      <th>SourceUserDomain</th>\n",
       "      <th>DestUserDomain</th>\n",
       "      <th>SourceComputer</th>\n",
       "      <th>DestComputer</th>\n",
       "      <th>AuthType</th>\n",
       "      <th>LogonType</th>\n",
       "      <th>AuthOrientation</th>\n",
       "      <th>SuccessFailure</th>\n",
       "    </tr>\n",
       "  </thead>\n",
       "  <tbody>\n",
       "    <tr>\n",
       "      <th>0</th>\n",
       "      <td>1</td>\n",
       "      <td>ANONYMOUS LOGON@C586</td>\n",
       "      <td>ANONYMOUS LOGON@C586</td>\n",
       "      <td>C1250</td>\n",
       "      <td>C586</td>\n",
       "      <td>NTLM</td>\n",
       "      <td>Network</td>\n",
       "      <td>LogOn</td>\n",
       "      <td>Success</td>\n",
       "    </tr>\n",
       "    <tr>\n",
       "      <th>1</th>\n",
       "      <td>1</td>\n",
       "      <td>ANONYMOUS LOGON@C586</td>\n",
       "      <td>ANONYMOUS LOGON@C586</td>\n",
       "      <td>C586</td>\n",
       "      <td>C586</td>\n",
       "      <td>?</td>\n",
       "      <td>Network</td>\n",
       "      <td>LogOff</td>\n",
       "      <td>Success</td>\n",
       "    </tr>\n",
       "    <tr>\n",
       "      <th>2</th>\n",
       "      <td>1</td>\n",
       "      <td>C101$@DOM1</td>\n",
       "      <td>C101$@DOM1</td>\n",
       "      <td>C988</td>\n",
       "      <td>C988</td>\n",
       "      <td>?</td>\n",
       "      <td>Network</td>\n",
       "      <td>LogOff</td>\n",
       "      <td>Success</td>\n",
       "    </tr>\n",
       "    <tr>\n",
       "      <th>3</th>\n",
       "      <td>1</td>\n",
       "      <td>C1020$@DOM1</td>\n",
       "      <td>SYSTEM@C1020</td>\n",
       "      <td>C1020</td>\n",
       "      <td>C1020</td>\n",
       "      <td>Negotiate</td>\n",
       "      <td>Service</td>\n",
       "      <td>LogOn</td>\n",
       "      <td>Success</td>\n",
       "    </tr>\n",
       "    <tr>\n",
       "      <th>4</th>\n",
       "      <td>1</td>\n",
       "      <td>C1021$@DOM1</td>\n",
       "      <td>C1021$@DOM1</td>\n",
       "      <td>C1021</td>\n",
       "      <td>C625</td>\n",
       "      <td>Kerberos</td>\n",
       "      <td>Network</td>\n",
       "      <td>LogOn</td>\n",
       "      <td>Success</td>\n",
       "    </tr>\n",
       "  </tbody>\n",
       "</table>\n",
       "</div>"
      ],
      "text/plain": [
       "   Time      SourceUserDomain        DestUserDomain SourceComputer  \\\n",
       "0     1  ANONYMOUS LOGON@C586  ANONYMOUS LOGON@C586          C1250   \n",
       "1     1  ANONYMOUS LOGON@C586  ANONYMOUS LOGON@C586           C586   \n",
       "2     1            C101$@DOM1            C101$@DOM1           C988   \n",
       "3     1           C1020$@DOM1          SYSTEM@C1020          C1020   \n",
       "4     1           C1021$@DOM1           C1021$@DOM1          C1021   \n",
       "\n",
       "  DestComputer   AuthType LogonType AuthOrientation SuccessFailure  \n",
       "0         C586       NTLM   Network           LogOn        Success  \n",
       "1         C586          ?   Network          LogOff        Success  \n",
       "2         C988          ?   Network          LogOff        Success  \n",
       "3        C1020  Negotiate   Service           LogOn        Success  \n",
       "4         C625   Kerberos   Network           LogOn        Success  "
      ]
     },
     "execution_count": 3,
     "metadata": {},
     "output_type": "execute_result"
    }
   ],
   "source": [
    "# rename the columns in DNS lookup\n",
    "\n",
    "# authTenK.columns = header\n",
    "# authFiftyK.columns= header\n",
    "authHundredK.columns = header\n",
    "\n",
    "# check the data to make sure the rename worked\n",
    "# authTenK.head()\n",
    "# authFiftyK.head()\n",
    "authHundredK.head()"
   ]
  },
  {
   "cell_type": "code",
   "execution_count": 4,
   "metadata": {},
   "outputs": [
    {
     "data": {
      "text/html": [
       "<div>\n",
       "<style>\n",
       "    .dataframe thead tr:only-child th {\n",
       "        text-align: right;\n",
       "    }\n",
       "\n",
       "    .dataframe thead th {\n",
       "        text-align: left;\n",
       "    }\n",
       "\n",
       "    .dataframe tbody tr th {\n",
       "        vertical-align: top;\n",
       "    }\n",
       "</style>\n",
       "<table border=\"1\" class=\"dataframe\">\n",
       "  <thead>\n",
       "    <tr style=\"text-align: right;\">\n",
       "      <th></th>\n",
       "      <th>SourceUserDomain</th>\n",
       "      <th>LogonType</th>\n",
       "      <th>AuthOrientation</th>\n",
       "      <th>SuccessFailure</th>\n",
       "    </tr>\n",
       "  </thead>\n",
       "  <tbody>\n",
       "    <tr>\n",
       "      <th>0</th>\n",
       "      <td>ANONYMOUS LOGON@C586</td>\n",
       "      <td>Network</td>\n",
       "      <td>LogOn</td>\n",
       "      <td>Success</td>\n",
       "    </tr>\n",
       "    <tr>\n",
       "      <th>1</th>\n",
       "      <td>ANONYMOUS LOGON@C586</td>\n",
       "      <td>Network</td>\n",
       "      <td>LogOff</td>\n",
       "      <td>Success</td>\n",
       "    </tr>\n",
       "    <tr>\n",
       "      <th>2</th>\n",
       "      <td>C101$@DOM1</td>\n",
       "      <td>Network</td>\n",
       "      <td>LogOff</td>\n",
       "      <td>Success</td>\n",
       "    </tr>\n",
       "    <tr>\n",
       "      <th>3</th>\n",
       "      <td>C1020$@DOM1</td>\n",
       "      <td>Service</td>\n",
       "      <td>LogOn</td>\n",
       "      <td>Success</td>\n",
       "    </tr>\n",
       "    <tr>\n",
       "      <th>4</th>\n",
       "      <td>C1021$@DOM1</td>\n",
       "      <td>Network</td>\n",
       "      <td>LogOn</td>\n",
       "      <td>Success</td>\n",
       "    </tr>\n",
       "  </tbody>\n",
       "</table>\n",
       "</div>"
      ],
      "text/plain": [
       "       SourceUserDomain LogonType AuthOrientation SuccessFailure\n",
       "0  ANONYMOUS LOGON@C586   Network           LogOn        Success\n",
       "1  ANONYMOUS LOGON@C586   Network          LogOff        Success\n",
       "2            C101$@DOM1   Network          LogOff        Success\n",
       "3           C1020$@DOM1   Service           LogOn        Success\n",
       "4           C1021$@DOM1   Network           LogOn        Success"
      ]
     },
     "execution_count": 4,
     "metadata": {},
     "output_type": "execute_result"
    }
   ],
   "source": [
    "# drop columns to not use in the model\n",
    "# uncomment based on the file you are using\n",
    "\n",
    "# authTenK = authTenK.drop([\"DestUserDomain\", \"SourceComputer\", \"DestComputer\", \"DestUserDomain\", \"Time\", \"AuthType\"], axis=1)\n",
    "# authTenK.head()\n",
    "\n",
    "# authFiftyK = authFiftyK.drop([\"DestUserDomain\", \"SourceComputer\", \"DestComputer\", \"DestUserDomain\", \"Time\", \"AuthType\"], axis=1)\n",
    "# authFiftyK.head()\n",
    "\n",
    "authHundredK = authHundredK.drop([\"DestUserDomain\", \"SourceComputer\", \"DestComputer\", \"DestUserDomain\", \"Time\", \"AuthType\"], axis=1)\n",
    "authHundredK.head()"
   ]
  },
  {
   "cell_type": "code",
   "execution_count": 5,
   "metadata": {},
   "outputs": [
    {
     "name": "stdout",
     "output_type": "stream",
     "text": [
      "(100000,) (100000,)\n"
     ]
    }
   ],
   "source": [
    "# create X and y values for use in the model\n",
    "# uncomment the X and y based on the datafile selected\n",
    "\n",
    "# X = authTenK[\"SourceUserDomain\"] + ' ' + authTenK[\"LogonType\"] + ' ' + authTenK[\"AuthOrientation\"]\n",
    "# y = authTenK[\"SuccessFailure\"]\n",
    "\n",
    "# X = authFiftyK[\"SourceUserDomain\"] + ' ' + authFiftyK[\"LogonType\"] + ' ' + authFiftyK[\"AuthOrientation\"]\n",
    "# y = authFiftyK[\"SuccessFailure\"]\n",
    "\n",
    "X = authHundredK[\"SourceUserDomain\"] + ' ' + authHundredK[\"LogonType\"] + ' ' + authHundredK[\"AuthOrientation\"]\n",
    "y = authHundredK[\"SuccessFailure\"]\n",
    "\n",
    "print(X.shape, y.shape)"
   ]
  },
  {
   "cell_type": "code",
   "execution_count": 6,
   "metadata": {},
   "outputs": [
    {
     "name": "stderr",
     "output_type": "stream",
     "text": [
      "Using TensorFlow backend.\n"
     ]
    },
    {
     "name": "stdout",
     "output_type": "stream",
     "text": [
      "(25000, 2) (75000, 2)\n",
      "(75000, 4545)\n"
     ]
    }
   ],
   "source": [
    "from sklearn.model_selection import train_test_split\n",
    "from sklearn.preprocessing import LabelEncoder\n",
    "from sklearn.feature_extraction.text import CountVectorizer\n",
    "from keras.utils import to_categorical\n",
    "from sklearn.externals import joblib\n",
    "\n",
    "# split the data into train/test, X_train will be combined with additional columns below\n",
    "X_train, X_test, y_train, y_test = train_test_split(X, y, random_state=42, stratify=y)\n",
    "\n",
    "# vectorize the X columns\n",
    "vectorizer = CountVectorizer()\n",
    "vectorizer.fit(X_train)\n",
    "joblib.dump(vectorizer, 'vectorizer.pkl') \n",
    "X_train_vec = vectorizer.transform(X_train)\n",
    "X_test_vec = vectorizer.transform(X_test)\n",
    "\n",
    "\n",
    "# label encode the data set\n",
    "label_encoder = LabelEncoder()\n",
    "label_encoder.fit(y_train)\n",
    "joblib.dump(label_encoder, 'label_encoder.pkl') \n",
    "\n",
    "y_train_encoded = label_encoder.transform(y_train)\n",
    "y_test_encoded = label_encoder.transform(y_test)\n",
    "\n",
    "# convert the encoded labels to one-hot-encoding\n",
    "y_train_categorical = to_categorical(y_train_encoded)\n",
    "y_test_categorical = to_categorical(y_test_encoded)\n",
    "\n",
    "print(y_test_categorical.shape, y_train_categorical.shape)\n",
    "print(X_train_vec.shape)"
   ]
  },
  {
   "cell_type": "code",
   "execution_count": 7,
   "metadata": {
    "collapsed": true
   },
   "outputs": [],
   "source": [
    "# create the deep learning model\n",
    "from keras.models import Sequential\n",
    "from keras.layers import Dense\n",
    "\n",
    "model = Sequential()\n",
    "model.add(Dense(units=100, activation='relu', input_dim=X_train_vec.shape[1]))\n",
    "model.add(Dense(units=2, activation='softmax'))"
   ]
  },
  {
   "cell_type": "code",
   "execution_count": 8,
   "metadata": {},
   "outputs": [
    {
     "name": "stdout",
     "output_type": "stream",
     "text": [
      "Epoch 1/10\n",
      " - 38s - loss: 0.0206 - acc: 0.9956\n",
      "Epoch 2/10\n",
      " - 36s - loss: 0.0042 - acc: 0.9987\n",
      "Epoch 3/10\n",
      " - 38s - loss: 0.0034 - acc: 0.9988\n",
      "Epoch 4/10\n",
      " - 37s - loss: 0.0033 - acc: 0.9989\n",
      "Epoch 5/10\n",
      " - 37s - loss: 0.0030 - acc: 0.9989\n",
      "Epoch 6/10\n",
      " - 38s - loss: 0.0031 - acc: 0.9988\n",
      "Epoch 7/10\n",
      " - 37s - loss: 0.0032 - acc: 0.9989\n",
      "Epoch 8/10\n",
      " - 37s - loss: 0.0030 - acc: 0.9989\n",
      "Epoch 9/10\n",
      " - 37s - loss: 0.0030 - acc: 0.9990\n",
      "Epoch 10/10\n",
      " - 37s - loss: 0.0030 - acc: 0.9989\n"
     ]
    },
    {
     "data": {
      "text/plain": [
       "<keras.callbacks.History at 0x26475218f60>"
      ]
     },
     "execution_count": 8,
     "metadata": {},
     "output_type": "execute_result"
    }
   ],
   "source": [
    "# compile the model and fit it\n",
    "model.compile(optimizer='adam', loss='categorical_crossentropy', metrics=['accuracy'])\n",
    "\n",
    "model.fit(\n",
    "    X_train_vec,\n",
    "    y_train_categorical,\n",
    "    epochs=10,\n",
    "    shuffle=True,\n",
    "    verbose=2\n",
    ")"
   ]
  },
  {
   "cell_type": "code",
   "execution_count": 9,
   "metadata": {},
   "outputs": [
    {
     "name": "stdout",
     "output_type": "stream",
     "text": [
      "Normal Neural Network - Loss: 0.004097415732244517, Accuracy: 0.99876\n"
     ]
    }
   ],
   "source": [
    "# evaluate the model\n",
    "model_loss, model_accuracy = model.evaluate(X_test_vec, y_test_categorical, verbose=2)\n",
    "print(f\"Normal Neural Network - Loss: {model_loss}, Accuracy: {model_accuracy}\")"
   ]
  },
  {
   "cell_type": "code",
   "execution_count": 10,
   "metadata": {},
   "outputs": [
    {
     "name": "stdout",
     "output_type": "stream",
     "text": [
      "Predicted classes: ['Success' 'Success' 'Success' 'Success' 'Success' 'Success' 'Success'\n",
      " 'Success' 'Success' 'Success']\n",
      "Actual Labels: ['Success', 'Success', 'Success', 'Success', 'Success', 'Success', 'Success', 'Success', 'Success', 'Success']\n"
     ]
    }
   ],
   "source": [
    "# test the model's predictions against a subset of test X_test_vec\n",
    "encoded_predictions = model.predict_classes(X_test_vec[:10])\n",
    "prediction_labels = label_encoder.inverse_transform(encoded_predictions)\n",
    "print(f\"Predicted classes: {prediction_labels}\")\n",
    "print(f\"Actual Labels: {list(y_train[:10])}\")"
   ]
  },
  {
   "cell_type": "code",
   "execution_count": 11,
   "metadata": {
    "collapsed": true
   },
   "outputs": [],
   "source": [
    "# Save the model\n",
    "model.save(\"auth_model_trained.h5\")"
   ]
  },
  {
   "cell_type": "code",
   "execution_count": null,
   "metadata": {
    "collapsed": true
   },
   "outputs": [],
   "source": [
    "# load the saved model\n",
    "from keras.models import load_model\n",
    "model = load_model(\"auth_model_trained.h5\")"
   ]
  },
  {
   "cell_type": "code",
   "execution_count": 13,
   "metadata": {},
   "outputs": [
    {
     "name": "stdout",
     "output_type": "stream",
     "text": [
      "Logon Succes or Failure: Success\n"
     ]
    }
   ],
   "source": [
    "# code required for running model post creation:\n",
    "\n",
    "# import dependencies\n",
    "import numpy as np\n",
    "import pandas as pd\n",
    "\n",
    "from sklearn.preprocessing import LabelEncoder\n",
    "from sklearn.feature_extraction.text import CountVectorizer\n",
    "from sklearn.externals import joblib\n",
    "\n",
    "from keras.models import load_model\n",
    "\n",
    "# load vectorizer and label encoder\n",
    "vectorizer = joblib.load('vectorizer.pkl')\n",
    "label_encoder = joblib.load('label_encoder.pkl') \n",
    "\n",
    "# load the model\n",
    "model = load_model(\"auth_model_trained.h5\")\n",
    "\n",
    "# test the data, assuming that the input data is in the same format as the original auth.txt.gz file without the SuccessFailure column.\n",
    "\n",
    "# start by converting the data into a useable format\n",
    "# create the header\n",
    "header = [\"Time\", \"SourceUserDomain\", \"DestUserDomain\", \"SourceComputer\", \"DestComputer\", \"AuthType\", \"LogonType\", \"AuthOrientation\"]\n",
    "\n",
    "# create a test data frame, replace the file path with that of the test data, change column names to headers, drop unnecessary columns\n",
    "test_df = pd.read_csv('./Data/CSVs/tester.csv', header=None)\n",
    "test_df.columns = header\n",
    "test_df = test_df.drop([\"DestUserDomain\", \"SourceComputer\", \"DestComputer\", \"DestUserDomain\", \"Time\", \"AuthType\"], axis=1)\n",
    "\n",
    "# transform the data into the proper testing format\n",
    "test = test_df[\"SourceUserDomain\"] + ' ' + test_df[\"LogonType\"] + ' ' + test_df[\"AuthOrientation\"]\n",
    "\n",
    "# run the test data through the vectorizer, model, and label encoder\n",
    "test_vec = vectorizer.transform(test)\n",
    "encoded_test = model.predict_classes(test_vec)\n",
    "predict_label = label_encoder.inverse_transform(encoded_test)\n",
    "print(\"Logon Prediction: \" + predict_label[0])"
   ]
  },
  {
   "cell_type": "code",
   "execution_count": null,
   "metadata": {
    "collapsed": true
   },
   "outputs": [],
   "source": []
  }
 ],
 "metadata": {
  "kernelspec": {
   "display_name": "Python [conda env:PythonData]",
   "language": "python",
   "name": "conda-env-PythonData-py"
  },
  "language_info": {
   "codemirror_mode": {
    "name": "ipython",
    "version": 3
   },
   "file_extension": ".py",
   "mimetype": "text/x-python",
   "name": "python",
   "nbconvert_exporter": "python",
   "pygments_lexer": "ipython3",
   "version": "3.6.1"
  }
 },
 "nbformat": 4,
 "nbformat_minor": 2
}
